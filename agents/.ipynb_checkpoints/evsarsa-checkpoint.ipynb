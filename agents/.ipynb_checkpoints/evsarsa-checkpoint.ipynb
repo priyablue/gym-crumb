{
 "cells": [
  {
   "cell_type": "code",
   "execution_count": 1,
   "metadata": {
    "collapsed": true
   },
   "outputs": [],
   "source": [
    "import numpy as np\n",
    "import gym\n",
    "import gym_crumb\n",
    "from math import radians"
   ]
  },
  {
   "cell_type": "code",
   "execution_count": 2,
   "metadata": {
    "collapsed": true
   },
   "outputs": [],
   "source": [
    "%load_ext autoreload\n",
    "%autoreload 2\n",
    "import matplotlib.pyplot as plt\n",
    "%matplotlib inline\n",
    "from IPython.display import clear_output"
   ]
  },
  {
   "cell_type": "code",
   "execution_count": 3,
   "metadata": {},
   "outputs": [],
   "source": [
    "env = gym.make(\"crumb-synthetic-v0\")"
   ]
  },
  {
   "cell_type": "code",
   "execution_count": 4,
   "metadata": {
    "collapsed": true
   },
   "outputs": [],
   "source": [
    "from expected_value_sarsa import EVSarsaAgent\n",
    "agent = EVSarsaAgent(alpha=0.1,epsilon=0.5,discount=0.99)"
   ]
  },
  {
   "cell_type": "code",
   "execution_count": 5,
   "metadata": {
    "collapsed": true
   },
   "outputs": [],
   "source": [
    "def play_and_train(env,agent,t_max=10**2):\n",
    "\n",
    "    total_reward = 0.0\n",
    "    s = env.reset()\n",
    "    r = 0\n",
    "    #env.step((3, radians(0)))\n",
    "    for t in range(t_max):\n",
    "        a = agent.getAction(tuple(s))#<get agent to pick action given state s>\n",
    "        \n",
    "        next_s,r, done = env.step(a)\n",
    "        \n",
    "        agent.update(tuple(s), a, tuple(next_s), r)#<train (update) agent for state s>\n",
    "        \n",
    "        s = next_s\n",
    "        total_reward +=r\n",
    "        if done:\n",
    "            agent.epsilon = agent.epsilon * 0.8\n",
    "            break\n",
    "    return total_reward"
   ]
  },
  {
   "cell_type": "code",
   "execution_count": 7,
   "metadata": {},
   "outputs": [
    {
     "name": "stdout",
     "output_type": "stream",
     "text": [
      "mean reward 984.0\n"
     ]
    },
    {
     "data": {
      "image/png": "[encoded data removed]",
      "text/plain": [
       "<matplotlib.figure.Figure at 0x7f23b004a908>"
      ]
     },
     "metadata": {},
     "output_type": "display_data"
    },
    {
     "name": "stdout",
     "output_type": "stream",
     "text": [
      "6.29325874852134e-183\n",
      "5.034606998817073e-183\n",
      "4.027685599053659e-183\n",
      "3.222148479242927e-183\n",
      "2.577718783394342e-183\n",
      "2.0621750267154736e-183\n",
      "1.6497400213723789e-183\n",
      "1.3197920170979032e-183\n",
      "1.0558336136783226e-183\n",
      "8.446668909426582e-184\n",
      "6.757335127541266e-184\n",
      "5.405868102033012e-184\n",
      "4.32469448162641e-184\n",
      "3.4597555853011285e-184\n",
      "2.767804468240903e-184\n",
      "2.2142435745927225e-184\n",
      "1.7713948596741782e-184\n",
      "1.4171158877393426e-184\n",
      "1.1336927101914741e-184\n",
      "9.069541681531793e-185\n",
      "7.255633345225435e-185\n",
      "5.804506676180348e-185\n",
      "4.643605340944279e-185\n",
      "3.7148842727554234e-185\n",
      "2.971907418204339e-185\n",
      "2.3775259345634713e-185\n",
      "1.9020207476507773e-185\n",
      "1.521616598120622e-185\n",
      "1.2172932784964977e-185\n",
      "9.738346227971982e-186\n",
      "7.790676982377586e-186\n",
      "6.232541585902069e-186\n",
      "4.986033268721656e-186\n",
      "3.9888266149773245e-186\n",
      "3.19106129198186e-186\n",
      "2.552849033585488e-186\n",
      "2.0422792268683904e-186\n",
      "1.6338233814947124e-186\n",
      "1.30705870519577e-186\n",
      "1.0456469641566161e-186\n",
      "8.365175713252929e-187\n",
      "6.692140570602343e-187\n",
      "5.353712456481875e-187\n",
      "4.2829699651855e-187\n",
      "3.4263759721484e-187\n",
      "2.74110077771872e-187\n",
      "2.1928806221749761e-187\n",
      "1.754304497739981e-187\n",
      "1.403443598191985e-187\n",
      "1.1227548785535882e-187\n",
      "8.982039028428705e-188\n",
      "7.185631222742965e-188\n",
      "5.748504978194373e-188\n",
      "4.598803982555498e-188\n",
      "3.679043186044399e-188\n",
      "2.9432345488355194e-188\n",
      "2.3545876390684157e-188\n",
      "1.8836701112547326e-188\n",
      "1.506936089003786e-188\n",
      "1.2055488712030289e-188\n",
      "9.644390969624231e-189\n",
      "7.715512775699385e-189\n",
      "6.172410220559508e-189\n",
      "4.937928176447607e-189\n",
      "3.950342541158086e-189\n",
      "3.1602740329264687e-189\n",
      "2.528219226341175e-189\n",
      "2.02257538107294e-189\n",
      "1.6180603048583521e-189\n",
      "1.2944482438866818e-189\n",
      "1.0355585951093454e-189\n",
      "8.284468760874764e-190\n",
      "6.627575008699812e-190\n",
      "5.30206000695985e-190\n",
      "4.24164800556788e-190\n",
      "3.393318404454304e-190\n",
      "2.7146547235634436e-190\n",
      "2.171723778850755e-190\n",
      "1.737379023080604e-190\n",
      "1.3899032184644834e-190\n",
      "1.1119225747715868e-190\n",
      "8.895380598172695e-191\n",
      "7.116304478538156e-191\n",
      "5.693043582830525e-191\n",
      "4.55443486626442e-191\n",
      "3.6435478930115366e-191\n",
      "2.9148383144092294e-191\n",
      "2.3318706515273835e-191\n",
      "1.865496521221907e-191\n",
      "1.4923972169775257e-191\n",
      "1.1939177735820206e-191\n",
      "9.551342188656166e-192\n",
      "7.641073750924932e-192\n",
      "6.112859000739946e-192\n",
      "4.890287200591957e-192\n",
      "3.912229760473566e-192\n",
      "3.129783808378853e-192\n",
      "2.5038270467030826e-192\n",
      "2.0030616373624663e-192\n"
     ]
    }
   ],
   "source": [
    "rewards = []\n",
    "for i in range(1000):\n",
    "    rewards.append(play_and_train(env,agent))    \n",
    "    if i %100 ==0:\n",
    "        clear_output(True)\n",
    "        print (\"mean reward\",np.mean(rewards[-100:]))\n",
    "        plt.plot(rewards)\n",
    "        plt.show()"
   ]
  }
 ],
 "metadata": {
  "kernelspec": {
   "display_name": "Python 3",
   "language": "python",
   "name": "python3"
  },
  "language_info": {
   "codemirror_mode": {
    "name": "ipython",
    "version": 3
   },
   "file_extension": ".py",
   "mimetype": "text/x-python",
   "name": "python",
   "nbconvert_exporter": "python",
   "pygments_lexer": "ipython3",
   "version": "3.6.3"
  }
 },
 "nbformat": 4,
 "nbformat_minor": 2
}

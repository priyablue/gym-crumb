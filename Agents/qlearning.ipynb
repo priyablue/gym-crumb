{
 "cells": [
  {
   "cell_type": "code",
   "execution_count": 1,
   "metadata": {
    "collapsed": true
   },
   "outputs": [],
   "source": [
    "import numpy as np\n",
    "import gym\n",
    "import gym_crumb\n",
    "from math import radians\n"
   ]
  },
  {
   "cell_type": "code",
   "execution_count": 2,
   "metadata": {
    "collapsed": true
   },
   "outputs": [],
   "source": [
    "%load_ext autoreload\n",
    "%autoreload 2\n",
    "import matplotlib.pyplot as plt\n",
    "%matplotlib inline\n",
    "from IPython.display import clear_output"
   ]
  },
  {
   "cell_type": "code",
   "execution_count": 3,
   "metadata": {
    "collapsed": true
   },
   "outputs": [],
   "source": [
    "env = gym.make(\"crumb-synthetic-v0\")"
   ]
  },
  {
   "cell_type": "code",
   "execution_count": 4,
   "metadata": {
    "collapsed": true
   },
   "outputs": [],
   "source": [
    "from qlearning import QLearningAgent\n",
    "aim = env.aim\n",
    "\n",
    "agent = QLearningAgent(alpha=0.25,epsilon=0.8,discount=0.99)"
   ]
  },
  {
   "cell_type": "code",
   "execution_count": 5,
   "metadata": {},
   "outputs": [
    {
     "data": {
      "text/plain": [
       "((3.6739403974420594e-16, 0.0, 0.0, 0.0), 1059.0, True)"
      ]
     },
     "execution_count": 5,
     "metadata": {},
     "output_type": "execute_result"
    }
   ],
   "source": [
    "env.step([0,radians(-180)])"
   ]
  },
  {
   "cell_type": "code",
   "execution_count": 5,
   "metadata": {
    "collapsed": true
   },
   "outputs": [],
   "source": [
    "sign = lambda a: 1 if a>0 else -1 if (a<0) else 0\n",
    "def signs(vec_a):\n",
    "    signs = np.zeros(len(vec_a))\n",
    "    for i in range(len(vec_a)):\n",
    "        signs[i] = sign(vec_a[i])\n",
    "    return signs\n",
    "        \n",
    "        \n",
    "def module(vec_a):\n",
    "    return (vec_a**2).sum()**(0.5)\n",
    "\n",
    "def angle(vec_a, vec_b):\n",
    "    return np.arccos((vec_a*vec_b).sum(axis = 1)/(module(vec_a) * module(vec_b)))\n",
    "def norm(vec_a):\n",
    "    norm = np.zeros_like(vec_a)\n",
    "    for i in range(len(vec_a)):\n",
    "        norm[i][0] = -vec_a[i][1]\n",
    "        norm[i][1] = vec_a[i][0]\n",
    "    return norm\n",
    "        "
   ]
  },
  {
   "cell_type": "code",
   "execution_count": 6,
   "metadata": {
    "collapsed": true
   },
   "outputs": [],
   "source": [
    "def state1(state, aim = env.aim):\n",
    "    aim1 = aim\n",
    "    #Угол к горизонту\n",
    "    hor = np.zeros(3)\n",
    "    hor[0] = state[0]\n",
    "    for i in range(1,3):\n",
    "        hor[i] = state[i] + hor[i-1]\n",
    "        \n",
    "        \n",
    "    #Joints pose\n",
    "    joint_x = np.zeros(4) #*a\n",
    "    joint_y = np.zeros(4)\n",
    "    for i in range(3):\n",
    "        joint_x[i+1] = joint_x[i] + np.sin(hor[i])\n",
    "        joint_y[i+1] = joint_y[i] + np.cos(hor[i])\n",
    "        \n",
    "    joint = np.array([joint_x,joint_y]).T\n",
    "    \n",
    "    #vectors\n",
    "    vec1 = np.zeros((3,2))\n",
    "    vec2 = np.zeros((3,2))\n",
    "    vec3 = np.zeros((3,2))\n",
    "    \n",
    "    for i in range(3):\n",
    "        vec1[i] = joint[3] - joint[i]\n",
    "        vec2[i] = aim1 - joint[i]\n",
    "    \n",
    "    state1 = signs(angle(norm(vec1), vec2) - np.full(3, radians(90))) #вестор из 1, -1, 0\n",
    "    return tuple(state1)\n",
    "     "
   ]
  },
  {
   "cell_type": "code",
   "execution_count": 7,
   "metadata": {},
   "outputs": [
    {
     "data": {
      "text/plain": [
       "array([0., 3.])"
      ]
     },
     "execution_count": 7,
     "metadata": {},
     "output_type": "execute_result"
    }
   ],
   "source": [
    "env.aim"
   ]
  },
  {
   "cell_type": "code",
   "execution_count": 6,
   "metadata": {
    "collapsed": true
   },
   "outputs": [],
   "source": [
    "def play_and_train(env,agent,t_max=10**3):\n",
    "\n",
    "    total_reward = 0.0\n",
    "    s = env.reset()\n",
    "    r = 0\n",
    "    #env.step((3, radians(0)))\n",
    "    for t in range(t_max):\n",
    "        action = agent.getAction(s)#<get agent to pick action given state s>\n",
    "        a = (action[0], action[1] + s[action[0]]) \n",
    "        next_s,r, done = env.step(a) \n",
    "        agent.update(s, action, next_s, r)#<train (update) agent for state s>\n",
    "        \n",
    "        s = next_s\n",
    "        total_reward +=r\n",
    "        if done:\n",
    "            agent.epsilon = agent.epsilon * 0.8\n",
    "            print ('yyes')\n",
    "            break\n",
    "    return total_reward\n",
    "    \n",
    "        \n",
    "    "
   ]
  },
  {
   "cell_type": "markdown",
   "metadata": {},
   "source": [
    "aim = (0, 3)"
   ]
  },
  {
   "cell_type": "code",
   "execution_count": 7,
   "metadata": {},
   "outputs": [
    {
     "name": "stdout",
     "output_type": "stream",
     "text": [
      "mean reward -8118.96\n"
     ]
    },
    {
     "data": {
      "image/png": "[encoded data removed]",
      "text/plain": [
       "<matplotlib.figure.Figure at 0x7fd086648fd0>"
      ]
     },
     "metadata": {},
     "output_type": "display_data"
    },
    {
     "name": "stdout",
     "output_type": "stream",
     "text": [
      "yyes\n",
      "yyes\n"
     ]
    },
    {
     "ename": "KeyboardInterrupt",
     "evalue": "",
     "output_type": "error",
     "traceback": [
      "\u001b[0;31m---------------------------------------------------------------------------\u001b[0m",
      "\u001b[0;31mKeyboardInterrupt\u001b[0m                         Traceback (most recent call last)",
      "\u001b[0;32m<ipython-input-7-08449f3dd56d>\u001b[0m in \u001b[0;36m<module>\u001b[0;34m()\u001b[0m\n\u001b[1;32m      1\u001b[0m \u001b[0mrewards\u001b[0m \u001b[0;34m=\u001b[0m \u001b[0;34m[\u001b[0m\u001b[0;34m]\u001b[0m\u001b[0;34m\u001b[0m\u001b[0m\n\u001b[1;32m      2\u001b[0m \u001b[0;32mfor\u001b[0m \u001b[0mi\u001b[0m \u001b[0;32min\u001b[0m \u001b[0mrange\u001b[0m\u001b[0;34m(\u001b[0m\u001b[0;36m1000\u001b[0m\u001b[0;34m)\u001b[0m\u001b[0;34m:\u001b[0m\u001b[0;34m\u001b[0m\u001b[0m\n\u001b[0;32m----> 3\u001b[0;31m     \u001b[0mrewards\u001b[0m\u001b[0;34m.\u001b[0m\u001b[0mappend\u001b[0m\u001b[0;34m(\u001b[0m\u001b[0mplay_and_train\u001b[0m\u001b[0;34m(\u001b[0m\u001b[0menv\u001b[0m\u001b[0;34m,\u001b[0m\u001b[0magent\u001b[0m\u001b[0;34m)\u001b[0m\u001b[0;34m)\u001b[0m\u001b[0;34m\u001b[0m\u001b[0m\n\u001b[0m\u001b[1;32m      4\u001b[0m     \u001b[0;32mif\u001b[0m \u001b[0mi\u001b[0m \u001b[0;34m%\u001b[0m \u001b[0;36m100\u001b[0m \u001b[0;34m==\u001b[0m \u001b[0;36m0\u001b[0m\u001b[0;34m:\u001b[0m\u001b[0;34m\u001b[0m\u001b[0m\n\u001b[1;32m      5\u001b[0m         \u001b[0mclear_output\u001b[0m\u001b[0;34m(\u001b[0m\u001b[0;32mTrue\u001b[0m\u001b[0;34m)\u001b[0m\u001b[0;34m\u001b[0m\u001b[0m\n",
      "\u001b[0;32m<ipython-input-6-1fa3afc94973>\u001b[0m in \u001b[0;36mplay_and_train\u001b[0;34m(env, agent, t_max)\u001b[0m\n\u001b[1;32m      8\u001b[0m         \u001b[0maction\u001b[0m \u001b[0;34m=\u001b[0m \u001b[0magent\u001b[0m\u001b[0;34m.\u001b[0m\u001b[0mgetAction\u001b[0m\u001b[0;34m(\u001b[0m\u001b[0ms\u001b[0m\u001b[0;34m)\u001b[0m\u001b[0;31m#<get agent to pick action given state s>\u001b[0m\u001b[0;34m\u001b[0m\u001b[0m\n\u001b[1;32m      9\u001b[0m         \u001b[0ma\u001b[0m \u001b[0;34m=\u001b[0m \u001b[0;34m(\u001b[0m\u001b[0maction\u001b[0m\u001b[0;34m[\u001b[0m\u001b[0;36m0\u001b[0m\u001b[0;34m]\u001b[0m\u001b[0;34m,\u001b[0m \u001b[0maction\u001b[0m\u001b[0;34m[\u001b[0m\u001b[0;36m1\u001b[0m\u001b[0;34m]\u001b[0m \u001b[0;34m+\u001b[0m \u001b[0ms\u001b[0m\u001b[0;34m[\u001b[0m\u001b[0maction\u001b[0m\u001b[0;34m[\u001b[0m\u001b[0;36m0\u001b[0m\u001b[0;34m]\u001b[0m\u001b[0;34m]\u001b[0m\u001b[0;34m)\u001b[0m\u001b[0;34m\u001b[0m\u001b[0m\n\u001b[0;32m---> 10\u001b[0;31m         \u001b[0mnext_s\u001b[0m\u001b[0;34m,\u001b[0m\u001b[0mr\u001b[0m\u001b[0;34m,\u001b[0m \u001b[0mdone\u001b[0m \u001b[0;34m=\u001b[0m \u001b[0menv\u001b[0m\u001b[0;34m.\u001b[0m\u001b[0mstep\u001b[0m\u001b[0;34m(\u001b[0m\u001b[0ma\u001b[0m\u001b[0;34m)\u001b[0m\u001b[0;34m\u001b[0m\u001b[0m\n\u001b[0m\u001b[1;32m     11\u001b[0m         \u001b[0magent\u001b[0m\u001b[0;34m.\u001b[0m\u001b[0mupdate\u001b[0m\u001b[0;34m(\u001b[0m\u001b[0ms\u001b[0m\u001b[0;34m,\u001b[0m \u001b[0maction\u001b[0m\u001b[0;34m,\u001b[0m \u001b[0mnext_s\u001b[0m\u001b[0;34m,\u001b[0m \u001b[0mr\u001b[0m\u001b[0;34m)\u001b[0m\u001b[0;31m#<train (update) agent for state s>\u001b[0m\u001b[0;34m\u001b[0m\u001b[0m\n\u001b[1;32m     12\u001b[0m \u001b[0;34m\u001b[0m\u001b[0m\n",
      "\u001b[0;32m~/anaconda3/lib/python3.6/site-packages/gym/core.py\u001b[0m in \u001b[0;36mstep\u001b[0;34m(self, action)\u001b[0m\n\u001b[1;32m     94\u001b[0m             \u001b[0minfo\u001b[0m \u001b[0;34m(\u001b[0m\u001b[0mdict\u001b[0m\u001b[0;34m)\u001b[0m\u001b[0;34m:\u001b[0m \u001b[0mcontains\u001b[0m \u001b[0mauxiliary\u001b[0m \u001b[0mdiagnostic\u001b[0m \u001b[0minformation\u001b[0m \u001b[0;34m(\u001b[0m\u001b[0mhelpful\u001b[0m \u001b[0;32mfor\u001b[0m \u001b[0mdebugging\u001b[0m\u001b[0;34m,\u001b[0m \u001b[0;32mand\u001b[0m \u001b[0msometimes\u001b[0m \u001b[0mlearning\u001b[0m\u001b[0;34m)\u001b[0m\u001b[0;34m\u001b[0m\u001b[0m\n\u001b[1;32m     95\u001b[0m         \"\"\"\n\u001b[0;32m---> 96\u001b[0;31m         \u001b[0;32mreturn\u001b[0m \u001b[0mself\u001b[0m\u001b[0;34m.\u001b[0m\u001b[0m_step\u001b[0m\u001b[0;34m(\u001b[0m\u001b[0maction\u001b[0m\u001b[0;34m)\u001b[0m\u001b[0;34m\u001b[0m\u001b[0m\n\u001b[0m\u001b[1;32m     97\u001b[0m \u001b[0;34m\u001b[0m\u001b[0m\n\u001b[1;32m     98\u001b[0m     \u001b[0;32mdef\u001b[0m \u001b[0mreset\u001b[0m\u001b[0;34m(\u001b[0m\u001b[0mself\u001b[0m\u001b[0;34m)\u001b[0m\u001b[0;34m:\u001b[0m\u001b[0;34m\u001b[0m\u001b[0m\n",
      "\u001b[0;32m~/gym-crumb/Gym-crumb/gym_crumb/envs/crumb_synthetic_env.py\u001b[0m in \u001b[0;36m_step\u001b[0;34m(self, action)\u001b[0m\n\u001b[1;32m    138\u001b[0m                 \u001b[0mstate\u001b[0m \u001b[0;34m=\u001b[0m \u001b[0;34m(\u001b[0m\u001b[0mmetric\u001b[0m\u001b[0;34m(\u001b[0m\u001b[0mbox_pose\u001b[0m\u001b[0;34m,\u001b[0m \u001b[0mself\u001b[0m\u001b[0;34m.\u001b[0m\u001b[0maim\u001b[0m\u001b[0;34m)\u001b[0m\u001b[0;34m,\u001b[0m\u001b[0;34m)\u001b[0m\u001b[0;34m\u001b[0m\u001b[0m\n\u001b[1;32m    139\u001b[0m                 \u001b[0;31m#state = state2([self.state[i] for i in range(3)], self.aim) #222\u001b[0m\u001b[0;34m\u001b[0m\u001b[0;34m\u001b[0m\u001b[0m\n\u001b[0;32m--> 140\u001b[0;31m                 \u001b[0mstate\u001b[0m \u001b[0;34m+=\u001b[0m \u001b[0mstate1\u001b[0m\u001b[0;34m(\u001b[0m\u001b[0;34m[\u001b[0m\u001b[0mself\u001b[0m\u001b[0;34m.\u001b[0m\u001b[0mstate\u001b[0m\u001b[0;34m[\u001b[0m\u001b[0mi\u001b[0m\u001b[0;34m]\u001b[0m \u001b[0;32mfor\u001b[0m \u001b[0mi\u001b[0m \u001b[0;32min\u001b[0m \u001b[0mrange\u001b[0m\u001b[0;34m(\u001b[0m\u001b[0;36m3\u001b[0m\u001b[0;34m)\u001b[0m\u001b[0;34m]\u001b[0m\u001b[0;34m,\u001b[0m \u001b[0mself\u001b[0m\u001b[0;34m.\u001b[0m\u001b[0maim\u001b[0m\u001b[0;34m)\u001b[0m\u001b[0;34m\u001b[0m\u001b[0m\n\u001b[0m\u001b[1;32m    141\u001b[0m                 \u001b[0;32mreturn\u001b[0m \u001b[0mstate\u001b[0m\u001b[0;34m,\u001b[0m \u001b[0mreward\u001b[0m\u001b[0;34m,\u001b[0m \u001b[0mdone\u001b[0m\u001b[0;34m\u001b[0m\u001b[0m\n\u001b[1;32m    142\u001b[0m \u001b[0;34m\u001b[0m\u001b[0m\n",
      "\u001b[0;32m~/gym-crumb/Gym-crumb/gym_crumb/envs/crumb_synthetic_env.py\u001b[0m in \u001b[0;36mstate1\u001b[0;34m(state, aim)\u001b[0m\n\u001b[1;32m     50\u001b[0m \u001b[0;34m\u001b[0m\u001b[0m\n\u001b[1;32m     51\u001b[0m     \u001b[0;32mfor\u001b[0m \u001b[0mi\u001b[0m \u001b[0;32min\u001b[0m \u001b[0mrange\u001b[0m\u001b[0;34m(\u001b[0m\u001b[0;36m3\u001b[0m\u001b[0;34m)\u001b[0m\u001b[0;34m:\u001b[0m\u001b[0;34m\u001b[0m\u001b[0m\n\u001b[0;32m---> 52\u001b[0;31m         \u001b[0mvec1\u001b[0m\u001b[0;34m[\u001b[0m\u001b[0mi\u001b[0m\u001b[0;34m]\u001b[0m \u001b[0;34m=\u001b[0m \u001b[0mjoint\u001b[0m\u001b[0;34m[\u001b[0m\u001b[0;36m3\u001b[0m\u001b[0;34m]\u001b[0m \u001b[0;34m-\u001b[0m \u001b[0mjoint\u001b[0m\u001b[0;34m[\u001b[0m\u001b[0mi\u001b[0m\u001b[0;34m]\u001b[0m\u001b[0;34m\u001b[0m\u001b[0m\n\u001b[0m\u001b[1;32m     53\u001b[0m         \u001b[0mvec2\u001b[0m\u001b[0;34m[\u001b[0m\u001b[0mi\u001b[0m\u001b[0;34m]\u001b[0m \u001b[0;34m=\u001b[0m \u001b[0maim1\u001b[0m \u001b[0;34m-\u001b[0m \u001b[0mjoint\u001b[0m\u001b[0;34m[\u001b[0m\u001b[0mi\u001b[0m\u001b[0;34m]\u001b[0m\u001b[0;34m\u001b[0m\u001b[0m\n\u001b[1;32m     54\u001b[0m \u001b[0;34m\u001b[0m\u001b[0m\n",
      "\u001b[0;31mKeyboardInterrupt\u001b[0m: "
     ]
    }
   ],
   "source": [
    "rewards = []\n",
    "for i in range(1000):\n",
    "    rewards.append(play_and_train(env,agent))    \n",
    "    if i % 100 == 0:\n",
    "        clear_output(True)\n",
    "        print (\"mean reward\",np.mean(rewards[-100:]))\n",
    "        plt.plot(rewards)\n",
    "        plt.show()\n",
    "        "
   ]
  },
  {
   "cell_type": "markdown",
   "metadata": {},
   "source": [
    "aim = (2, 1)"
   ]
  },
  {
   "cell_type": "code",
   "execution_count": 25,
   "metadata": {
    "collapsed": true
   },
   "outputs": [],
   "source": [
    "env.aim = np.array((0, 3))"
   ]
  },
  {
   "cell_type": "code",
   "execution_count": 26,
   "metadata": {},
   "outputs": [
    {
     "name": "stdout",
     "output_type": "stream",
     "text": [
      "mean reward -32.0\n"
     ]
    },
    {
     "data": {
      "image/png": "[encoded data removed]",
      "text/plain": [
       "<matplotlib.figure.Figure at 0x7fefd562c940>"
      ]
     },
     "metadata": {},
     "output_type": "display_data"
    }
   ],
   "source": [
    "rewards = []\n",
    "for i in range(1000):\n",
    "    rewards.append(play_and_train(env,agent))    \n",
    "    if i % 100 == 0:\n",
    "        clear_output(True)\n",
    "        print (\"mean reward\",np.mean(rewards[-100:]))\n",
    "        plt.plot(rewards)\n",
    "        plt.show()"
   ]
  },
  {
   "cell_type": "code",
   "execution_count": 27,
   "metadata": {},
   "outputs": [
    {
     "data": {
      "text/plain": [
       "1e-323"
      ]
     },
     "execution_count": 27,
     "metadata": {},
     "output_type": "execute_result"
    }
   ],
   "source": [
    "agent.epsilon"
   ]
  },
  {
   "cell_type": "code",
   "execution_count": 8,
   "metadata": {
    "collapsed": true
   },
   "outputs": [],
   "source": [
    "def play(env, agent, t_max=10**4):\n",
    "    total_reward = 0.0\n",
    "    s = env.reset()\n",
    "    r = 0\n",
    "    #env.step((3, radians(0)))\n",
    "    for t in range(t_max):\n",
    "        a = agent.getPolicy(tuple(s))#<get agent to pick action given state s>\n",
    "        \n",
    "        next_s,r, done = env.step(a)\n",
    "        print (r)\n",
    "        \n",
    "        #agent.update(tuple(s), a, tuple(next_s), r)#<train (update) agent for state s>\n",
    "        \n",
    "        s = next_s\n",
    "        total_reward +=r\n",
    "        if done:break\n",
    "    return total_reward"
   ]
  },
  {
   "cell_type": "code",
   "execution_count": 11,
   "metadata": {},
   "outputs": [
    {
     "data": {
      "text/plain": [
       "((0, 0),\n",
       " (0, 0.07853981633974483),\n",
       " (0, -0.07853981633974483),\n",
       " (0, 0.15707963267948966),\n",
       " (0, -0.15707963267948966),\n",
       " (0, 0.23561944901923448),\n",
       " (0, -0.23561944901923448),\n",
       " (0, 0.3141592653589793),\n",
       " (0, -0.3141592653589793),\n",
       " (0, 0.39269908169872414),\n",
       " (0, -0.39269908169872414),\n",
       " (0, 0.47123889803846897),\n",
       " (0, -0.47123889803846897),\n",
       " (0, 0.5497787143782138),\n",
       " (0, -0.5497787143782138),\n",
       " (0, 0.6283185307179586),\n",
       " (0, -0.6283185307179586),\n",
       " (0, 0.7068583470577035),\n",
       " (0, -0.7068583470577035),\n",
       " (0, 0.7853981633974483),\n",
       " (0, -0.7853981633974483),\n",
       " (0, 0.8639379797371931),\n",
       " (0, -0.8639379797371931),\n",
       " (0, 0.9424777960769379),\n",
       " (0, -0.9424777960769379),\n",
       " (0, 1.0210176124166828),\n",
       " (0, -1.0210176124166828),\n",
       " (0, 1.0995574287564276),\n",
       " (0, -1.0995574287564276),\n",
       " (0, 1.1780972450961724),\n",
       " (0, -1.1780972450961724),\n",
       " (0, 1.2566370614359172),\n",
       " (0, -1.2566370614359172),\n",
       " (0, 1.335176877775662),\n",
       " (0, -1.335176877775662),\n",
       " (0, 1.413716694115407),\n",
       " (0, -1.413716694115407),\n",
       " (0, 1.4922565104551517),\n",
       " (0, -1.4922565104551517),\n",
       " (0, 1.5707963267948966),\n",
       " (0, -1.5707963267948966),\n",
       " (1, 0),\n",
       " (1, 0.07853981633974483),\n",
       " (1, -0.07853981633974483),\n",
       " (1, 0.15707963267948966),\n",
       " (1, -0.15707963267948966),\n",
       " (1, 0.23561944901923448),\n",
       " (1, -0.23561944901923448),\n",
       " (1, 0.3141592653589793),\n",
       " (1, -0.3141592653589793),\n",
       " (1, 0.39269908169872414),\n",
       " (1, -0.39269908169872414),\n",
       " (1, 0.47123889803846897),\n",
       " (1, -0.47123889803846897),\n",
       " (1, 0.5497787143782138),\n",
       " (1, -0.5497787143782138),\n",
       " (1, 0.6283185307179586),\n",
       " (1, -0.6283185307179586),\n",
       " (1, 0.7068583470577035),\n",
       " (1, -0.7068583470577035),\n",
       " (1, 0.7853981633974483),\n",
       " (1, -0.7853981633974483),\n",
       " (1, 0.8639379797371931),\n",
       " (1, -0.8639379797371931),\n",
       " (1, 0.9424777960769379),\n",
       " (1, -0.9424777960769379),\n",
       " (1, 1.0210176124166828),\n",
       " (1, -1.0210176124166828),\n",
       " (1, 1.0995574287564276),\n",
       " (1, -1.0995574287564276),\n",
       " (1, 1.1780972450961724),\n",
       " (1, -1.1780972450961724),\n",
       " (1, 1.2566370614359172),\n",
       " (1, -1.2566370614359172),\n",
       " (1, 1.335176877775662),\n",
       " (1, -1.335176877775662),\n",
       " (1, 1.413716694115407),\n",
       " (1, -1.413716694115407),\n",
       " (1, 1.4922565104551517),\n",
       " (1, -1.4922565104551517),\n",
       " (1, 1.5707963267948966),\n",
       " (1, -1.5707963267948966),\n",
       " (2, 0),\n",
       " (2, 0.07853981633974483),\n",
       " (2, -0.07853981633974483),\n",
       " (2, 0.15707963267948966),\n",
       " (2, -0.15707963267948966),\n",
       " (2, 0.23561944901923448),\n",
       " (2, -0.23561944901923448),\n",
       " (2, 0.3141592653589793),\n",
       " (2, -0.3141592653589793),\n",
       " (2, 0.39269908169872414),\n",
       " (2, -0.39269908169872414),\n",
       " (2, 0.47123889803846897),\n",
       " (2, -0.47123889803846897),\n",
       " (2, 0.5497787143782138),\n",
       " (2, -0.5497787143782138),\n",
       " (2, 0.6283185307179586),\n",
       " (2, -0.6283185307179586),\n",
       " (2, 0.7068583470577035),\n",
       " (2, -0.7068583470577035),\n",
       " (2, 0.7853981633974483),\n",
       " (2, -0.7853981633974483),\n",
       " (2, 0.8639379797371931),\n",
       " (2, -0.8639379797371931),\n",
       " (2, 0.9424777960769379),\n",
       " (2, -0.9424777960769379),\n",
       " (2, 1.0210176124166828),\n",
       " (2, -1.0210176124166828),\n",
       " (2, 1.0995574287564276),\n",
       " (2, -1.0995574287564276),\n",
       " (2, 1.1780972450961724),\n",
       " (2, -1.1780972450961724),\n",
       " (2, 1.2566370614359172),\n",
       " (2, -1.2566370614359172),\n",
       " (2, 1.335176877775662),\n",
       " (2, -1.335176877775662),\n",
       " (2, 1.413716694115407),\n",
       " (2, -1.413716694115407),\n",
       " (2, 1.4922565104551517),\n",
       " (2, -1.4922565104551517),\n",
       " (2, 1.5707963267948966),\n",
       " (2, -1.5707963267948966))"
      ]
     },
     "execution_count": 11,
     "metadata": {},
     "output_type": "execute_result"
    }
   ],
   "source": [
    "agent.Actions"
   ]
  },
  {
   "cell_type": "code",
   "execution_count": null,
   "metadata": {
    "collapsed": true
   },
   "outputs": [],
   "source": []
  }
 ],
 "metadata": {
  "kernelspec": {
   "display_name": "Python 3",
   "language": "python",
   "name": "python3"
  },
  "language_info": {
   "codemirror_mode": {
    "name": "ipython",
    "version": 3
   },
   "file_extension": ".py",
   "mimetype": "text/x-python",
   "name": "python",
   "nbconvert_exporter": "python",
   "pygments_lexer": "ipython3",
   "version": "3.6.3"
  }
 },
 "nbformat": 4,
 "nbformat_minor": 1
}

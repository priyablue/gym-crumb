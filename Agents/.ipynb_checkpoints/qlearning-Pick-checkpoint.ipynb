{
 "cells": [
  {
   "cell_type": "code",
   "execution_count": 1,
   "metadata": {
    "collapsed": true
   },
   "outputs": [],
   "source": [
    "import numpy as np\n",
    "import gym\n",
    "import gym_crumb\n",
    "from math import radians\n"
   ]
  },
  {
   "cell_type": "code",
   "execution_count": 2,
   "metadata": {
    "collapsed": true
   },
   "outputs": [],
   "source": [
    "%load_ext autoreload\n",
    "%autoreload 2\n",
    "import matplotlib.pyplot as plt\n",
    "%matplotlib inline\n",
    "from IPython.display import clear_output"
   ]
  },
  {
   "cell_type": "code",
   "execution_count": 3,
   "metadata": {
    "collapsed": true
   },
   "outputs": [],
   "source": [
    "env = gym.make(\"crumb-synthetic-v0\")"
   ]
  },
  {
   "cell_type": "code",
   "execution_count": 4,
   "metadata": {},
   "outputs": [],
   "source": [
    "from qlearning import QLearningAgent\n",
    "aim = env.aim\n",
    "\n",
    "agent = QLearningAgent(alpha=0.25,epsilon=0.8,discount=0.99)"
   ]
  },
  {
   "cell_type": "code",
   "execution_count": 5,
   "metadata": {},
   "outputs": [],
   "source": [
    "sign = lambda a: 1 if a>0 else -1 if (a<0) else 0\n",
    "def signs(vec_a):\n",
    "    signs = np.zeros(len(vec_a))\n",
    "    for i in range(len(vec_a)):\n",
    "        signs[i] = sign(vec_a[i])\n",
    "    return signs\n",
    "        \n",
    "        \n",
    "def module(vec_a):\n",
    "    return (vec_a**2).sum()**(0.5)\n",
    "\n",
    "def angle(vec_a, vec_b):\n",
    "    return np.arccos((vec_a*vec_b).sum(axis = 1)/(module(vec_a) * module(vec_b)))\n",
    "def norm(vec_a):\n",
    "    norm = np.zeros_like(vec_a)\n",
    "    for i in range(len(vec_a)):\n",
    "        norm[i][0] = -vec_a[i][1]\n",
    "        norm[i][1] = vec_a[i][0]\n",
    "    return norm\n",
    "        "
   ]
  },
  {
   "cell_type": "code",
   "execution_count": 6,
   "metadata": {},
   "outputs": [],
   "source": [
    "def state1(state, aim = env.aim):\n",
    "    aim1 = aim\n",
    "    #Угол к горизонту\n",
    "    hor = np.zeros(3)\n",
    "    hor[0] = state[0]\n",
    "    for i in range(1,3):\n",
    "        hor[i] = state[i] + hor[i-1]\n",
    "        \n",
    "        \n",
    "    #Joints pose\n",
    "    joint_x = np.zeros(4) #*a\n",
    "    joint_y = np.zeros(4)\n",
    "    for i in range(3):\n",
    "        joint_x[i+1] = joint_x[i] + np.sin(hor[i])\n",
    "        joint_y[i+1] = joint_y[i] + np.cos(hor[i])\n",
    "        \n",
    "    joint = np.array([joint_x,joint_y]).T\n",
    "    \n",
    "    #vectors\n",
    "    vec1 = np.zeros((3,2))\n",
    "    vec2 = np.zeros((3,2))\n",
    "    vec3 = np.zeros((3,2))\n",
    "    \n",
    "    for i in range(3):\n",
    "        vec1[i] = joint[3] - joint[i]\n",
    "        vec2[i] = aim1 - joint[i]\n",
    "    \n",
    "    state1 = signs(angle(norm(vec1), vec2) - np.full(3, radians(90))) #вестор из 1, -1, 0\n",
    "    return tuple(state1)\n",
    "     "
   ]
  },
  {
   "cell_type": "code",
   "execution_count": 7,
   "metadata": {},
   "outputs": [
    {
     "data": {
      "text/plain": [
       "array([0., 3.])"
      ]
     },
     "execution_count": 7,
     "metadata": {},
     "output_type": "execute_result"
    }
   ],
   "source": [
    "env.aim"
   ]
  },
  {
   "cell_type": "code",
   "execution_count": 8,
   "metadata": {
    "collapsed": true
   },
   "outputs": [],
   "source": [
    "def play_and_train(env,agent,t_max=10**3):\n",
    "\n",
    "    total_reward = 0.0\n",
    "    s = env.reset()\n",
    "    r = 0\n",
    "    #env.step((3, radians(0)))\n",
    "    for t in range(t_max):\n",
    "        action = agent.getAction(state1(s))#<get agent to pick action given state s>\n",
    "        a = (action[0], action[1] + s[action[0]]) \n",
    "        next_s,r, done = env.step(a) \n",
    "        agent.update(state1(s), action, state1(next_s), r)#<train (update) agent for state s>\n",
    "        \n",
    "        s = next_s\n",
    "        total_reward +=r\n",
    "        if done:\n",
    "            agent.epsilon = agent.epsilon * 0.8\n",
    "            print ('yyes')\n",
    "            break\n",
    "    return total_reward\n",
    "    \n",
    "        \n",
    "    "
   ]
  },
  {
   "cell_type": "markdown",
   "metadata": {},
   "source": [
    "aim = (0, 3)"
   ]
  },
  {
   "cell_type": "code",
   "execution_count": 9,
   "metadata": {},
   "outputs": [
    {
     "name": "stdout",
     "output_type": "stream",
     "text": [
      "mean reward 870.0\n"
     ]
    },
    {
     "data": {
      "image/png": "[encoded data removed]",
      "text/plain": [
       "<matplotlib.figure.Figure at 0x7f97a12552e8>"
      ]
     },
     "metadata": {},
     "output_type": "display_data"
    },
    {
     "name": "stdout",
     "output_type": "stream",
     "text": [
      "yyes\n",
      "yyes\n",
      "yyes\n",
      "yyes\n",
      "yyes\n",
      "yyes\n",
      "yyes\n",
      "yyes\n",
      "yyes\n",
      "yyes\n",
      "yyes\n",
      "yyes\n",
      "yyes\n",
      "yyes\n",
      "yyes\n",
      "yyes\n",
      "yyes\n",
      "yyes\n",
      "yyes\n",
      "yyes\n",
      "yyes\n",
      "yyes\n",
      "yyes\n",
      "yyes\n",
      "yyes\n",
      "yyes\n",
      "yyes\n",
      "yyes\n",
      "yyes\n",
      "yyes\n",
      "yyes\n",
      "yyes\n",
      "yyes\n",
      "yyes\n",
      "yyes\n",
      "yyes\n",
      "yyes\n",
      "yyes\n",
      "yyes\n",
      "yyes\n",
      "yyes\n",
      "yyes\n",
      "yyes\n",
      "yyes\n",
      "yyes\n",
      "yyes\n",
      "yyes\n",
      "yyes\n",
      "yyes\n",
      "yyes\n",
      "yyes\n",
      "yyes\n",
      "yyes\n",
      "yyes\n",
      "yyes\n",
      "yyes\n",
      "yyes\n",
      "yyes\n",
      "yyes\n",
      "yyes\n",
      "yyes\n",
      "yyes\n",
      "yyes\n",
      "yyes\n",
      "yyes\n",
      "yyes\n",
      "yyes\n",
      "yyes\n",
      "yyes\n",
      "yyes\n",
      "yyes\n",
      "yyes\n",
      "yyes\n",
      "yyes\n",
      "yyes\n",
      "yyes\n",
      "yyes\n",
      "yyes\n",
      "yyes\n",
      "yyes\n",
      "yyes\n",
      "yyes\n",
      "yyes\n",
      "yyes\n",
      "yyes\n",
      "yyes\n",
      "yyes\n",
      "yyes\n",
      "yyes\n",
      "yyes\n",
      "yyes\n",
      "yyes\n",
      "yyes\n",
      "yyes\n",
      "yyes\n",
      "yyes\n",
      "yyes\n",
      "yyes\n",
      "yyes\n"
     ]
    }
   ],
   "source": [
    "rewards = []\n",
    "for i in range(1000):\n",
    "    rewards.append(play_and_train(env,agent))    \n",
    "    if i % 100 == 0:\n",
    "        clear_output(True)\n",
    "        print (\"mean reward\",np.mean(rewards[-100:]))\n",
    "        plt.plot(rewards)\n",
    "        plt.show()\n",
    "        "
   ]
  },
  {
   "cell_type": "markdown",
   "metadata": {},
   "source": [
    "aim = (2, 1)"
   ]
  },
  {
   "cell_type": "code",
   "execution_count": 25,
   "metadata": {
    "collapsed": true
   },
   "outputs": [],
   "source": [
    "env.aim = np.array((0, 3))"
   ]
  },
  {
   "cell_type": "code",
   "execution_count": 26,
   "metadata": {},
   "outputs": [
    {
     "name": "stdout",
     "output_type": "stream",
     "text": [
      "mean reward -32.0\n"
     ]
    },
    {
     "data": {
      "image/png": "[encoded data removed]",
      "text/plain": [
       "<matplotlib.figure.Figure at 0x7fefd562c940>"
      ]
     },
     "metadata": {},
     "output_type": "display_data"
    }
   ],
   "source": [
    "rewards = []\n",
    "for i in range(1000):\n",
    "    rewards.append(play_and_train(env,agent))    \n",
    "    if i % 100 == 0:\n",
    "        clear_output(True)\n",
    "        print (\"mean reward\",np.mean(rewards[-100:]))\n",
    "        plt.plot(rewards)\n",
    "        plt.show()"
   ]
  },
  {
   "cell_type": "code",
   "execution_count": 27,
   "metadata": {},
   "outputs": [
    {
     "data": {
      "text/plain": [
       "1e-323"
      ]
     },
     "execution_count": 27,
     "metadata": {},
     "output_type": "execute_result"
    }
   ],
   "source": [
    "agent.epsilon"
   ]
  },
  {
   "cell_type": "code",
   "execution_count": 8,
   "metadata": {
    "collapsed": true
   },
   "outputs": [],
   "source": [
    "def play(env, agent, t_max=10**4):\n",
    "    total_reward = 0.0\n",
    "    s = env.reset()\n",
    "    r = 0\n",
    "    #env.step((3, radians(0)))\n",
    "    for t in range(t_max):\n",
    "        a = agent.getPolicy(tuple(s))#<get agent to pick action given state s>\n",
    "        \n",
    "        next_s,r, done = env.step(a)\n",
    "        print (r)\n",
    "        \n",
    "        #agent.update(tuple(s), a, tuple(next_s), r)#<train (update) agent for state s>\n",
    "        \n",
    "        s = next_s\n",
    "        total_reward +=r\n",
    "        if done:break\n",
    "    return total_reward"
   ]
  },
  {
   "cell_type": "code",
   "execution_count": 11,
   "metadata": {},
   "outputs": [
    {
     "data": {
      "text/plain": [
       "((0, 0),\n",
       " (0, 0.07853981633974483),\n",
       " (0, -0.07853981633974483),\n",
       " (0, 0.15707963267948966),\n",
       " (0, -0.15707963267948966),\n",
       " (0, 0.23561944901923448),\n",
       " (0, -0.23561944901923448),\n",
       " (0, 0.3141592653589793),\n",
       " (0, -0.3141592653589793),\n",
       " (0, 0.39269908169872414),\n",
       " (0, -0.39269908169872414),\n",
       " (0, 0.47123889803846897),\n",
       " (0, -0.47123889803846897),\n",
       " (0, 0.5497787143782138),\n",
       " (0, -0.5497787143782138),\n",
       " (0, 0.6283185307179586),\n",
       " (0, -0.6283185307179586),\n",
       " (0, 0.7068583470577035),\n",
       " (0, -0.7068583470577035),\n",
       " (0, 0.7853981633974483),\n",
       " (0, -0.7853981633974483),\n",
       " (0, 0.8639379797371931),\n",
       " (0, -0.8639379797371931),\n",
       " (0, 0.9424777960769379),\n",
       " (0, -0.9424777960769379),\n",
       " (0, 1.0210176124166828),\n",
       " (0, -1.0210176124166828),\n",
       " (0, 1.0995574287564276),\n",
       " (0, -1.0995574287564276),\n",
       " (0, 1.1780972450961724),\n",
       " (0, -1.1780972450961724),\n",
       " (0, 1.2566370614359172),\n",
       " (0, -1.2566370614359172),\n",
       " (0, 1.335176877775662),\n",
       " (0, -1.335176877775662),\n",
       " (0, 1.413716694115407),\n",
       " (0, -1.413716694115407),\n",
       " (0, 1.4922565104551517),\n",
       " (0, -1.4922565104551517),\n",
       " (0, 1.5707963267948966),\n",
       " (0, -1.5707963267948966),\n",
       " (1, 0),\n",
       " (1, 0.07853981633974483),\n",
       " (1, -0.07853981633974483),\n",
       " (1, 0.15707963267948966),\n",
       " (1, -0.15707963267948966),\n",
       " (1, 0.23561944901923448),\n",
       " (1, -0.23561944901923448),\n",
       " (1, 0.3141592653589793),\n",
       " (1, -0.3141592653589793),\n",
       " (1, 0.39269908169872414),\n",
       " (1, -0.39269908169872414),\n",
       " (1, 0.47123889803846897),\n",
       " (1, -0.47123889803846897),\n",
       " (1, 0.5497787143782138),\n",
       " (1, -0.5497787143782138),\n",
       " (1, 0.6283185307179586),\n",
       " (1, -0.6283185307179586),\n",
       " (1, 0.7068583470577035),\n",
       " (1, -0.7068583470577035),\n",
       " (1, 0.7853981633974483),\n",
       " (1, -0.7853981633974483),\n",
       " (1, 0.8639379797371931),\n",
       " (1, -0.8639379797371931),\n",
       " (1, 0.9424777960769379),\n",
       " (1, -0.9424777960769379),\n",
       " (1, 1.0210176124166828),\n",
       " (1, -1.0210176124166828),\n",
       " (1, 1.0995574287564276),\n",
       " (1, -1.0995574287564276),\n",
       " (1, 1.1780972450961724),\n",
       " (1, -1.1780972450961724),\n",
       " (1, 1.2566370614359172),\n",
       " (1, -1.2566370614359172),\n",
       " (1, 1.335176877775662),\n",
       " (1, -1.335176877775662),\n",
       " (1, 1.413716694115407),\n",
       " (1, -1.413716694115407),\n",
       " (1, 1.4922565104551517),\n",
       " (1, -1.4922565104551517),\n",
       " (1, 1.5707963267948966),\n",
       " (1, -1.5707963267948966),\n",
       " (2, 0),\n",
       " (2, 0.07853981633974483),\n",
       " (2, -0.07853981633974483),\n",
       " (2, 0.15707963267948966),\n",
       " (2, -0.15707963267948966),\n",
       " (2, 0.23561944901923448),\n",
       " (2, -0.23561944901923448),\n",
       " (2, 0.3141592653589793),\n",
       " (2, -0.3141592653589793),\n",
       " (2, 0.39269908169872414),\n",
       " (2, -0.39269908169872414),\n",
       " (2, 0.47123889803846897),\n",
       " (2, -0.47123889803846897),\n",
       " (2, 0.5497787143782138),\n",
       " (2, -0.5497787143782138),\n",
       " (2, 0.6283185307179586),\n",
       " (2, -0.6283185307179586),\n",
       " (2, 0.7068583470577035),\n",
       " (2, -0.7068583470577035),\n",
       " (2, 0.7853981633974483),\n",
       " (2, -0.7853981633974483),\n",
       " (2, 0.8639379797371931),\n",
       " (2, -0.8639379797371931),\n",
       " (2, 0.9424777960769379),\n",
       " (2, -0.9424777960769379),\n",
       " (2, 1.0210176124166828),\n",
       " (2, -1.0210176124166828),\n",
       " (2, 1.0995574287564276),\n",
       " (2, -1.0995574287564276),\n",
       " (2, 1.1780972450961724),\n",
       " (2, -1.1780972450961724),\n",
       " (2, 1.2566370614359172),\n",
       " (2, -1.2566370614359172),\n",
       " (2, 1.335176877775662),\n",
       " (2, -1.335176877775662),\n",
       " (2, 1.413716694115407),\n",
       " (2, -1.413716694115407),\n",
       " (2, 1.4922565104551517),\n",
       " (2, -1.4922565104551517),\n",
       " (2, 1.5707963267948966),\n",
       " (2, -1.5707963267948966))"
      ]
     },
     "execution_count": 11,
     "metadata": {},
     "output_type": "execute_result"
    }
   ],
   "source": [
    "agent.Actions"
   ]
  },
  {
   "cell_type": "code",
   "execution_count": null,
   "metadata": {
    "collapsed": true
   },
   "outputs": [],
   "source": []
  }
 ],
 "metadata": {
  "kernelspec": {
   "display_name": "Python 3",
   "language": "python",
   "name": "python3"
  },
  "language_info": {
   "codemirror_mode": {
    "name": "ipython",
    "version": 3
   },
   "file_extension": ".py",
   "mimetype": "text/x-python",
   "name": "python",
   "nbconvert_exporter": "python",
   "pygments_lexer": "ipython3",
   "version": "3.6.3"
  }
 },
 "nbformat": 4,
 "nbformat_minor": 1
}

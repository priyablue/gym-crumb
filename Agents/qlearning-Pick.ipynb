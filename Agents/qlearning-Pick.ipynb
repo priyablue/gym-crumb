{
 "cells": [
  {
   "cell_type": "code",
   "execution_count": 1,
   "metadata": {
    "collapsed": true
   },
   "outputs": [],
   "source": [
    "import numpy as np\n",
    "import gym\n",
    "import gym_crumb\n",
    "from math import radians\n",
    "import rospy\n"
   ]
  },
  {
   "cell_type": "code",
   "execution_count": 2,
   "metadata": {
    "collapsed": true
   },
   "outputs": [],
   "source": [
    "%load_ext autoreload\n",
    "%autoreload 2\n",
    "import matplotlib.pyplot as plt\n",
    "%matplotlib inline\n",
    "from IPython.display import clear_output"
   ]
  },
  {
   "cell_type": "code",
   "execution_count": 3,
   "metadata": {
    "collapsed": true
   },
   "outputs": [],
   "source": [
    "env = gym.make(\"crumb-pick-v0\")"
   ]
  },
  {
   "cell_type": "code",
   "execution_count": 22,
   "metadata": {
    "collapsed": true
   },
   "outputs": [],
   "source": []
  },
  {
   "cell_type": "code",
   "execution_count": 9,
   "metadata": {},
   "outputs": [
    {
     "data": {
      "text/plain": [
       "[0.00015711222384595658,\n",
       " 0.009900520270559987,\n",
       " -0.00702721148400709,\n",
       " -0.007881893475730095,\n",
       " 0.00037148649592921856]"
      ]
     },
     "execution_count": 9,
     "metadata": {},
     "output_type": "execute_result"
    }
   ],
   "source": [
    "env.reset()"
   ]
  },
  {
   "cell_type": "code",
   "execution_count": 4,
   "metadata": {
    "collapsed": true
   },
   "outputs": [],
   "source": [
    "from qlearning_pick import QLearningAgent\n",
    "agent = QLearningAgent(alpha=0.25,epsilon=0.8,discount=0.99)"
   ]
  },
  {
   "cell_type": "code",
   "execution_count": 5,
   "metadata": {
    "collapsed": true
   },
   "outputs": [],
   "source": [
    "sign = lambda a: 1 if a>0 else -1 if (a<0) else 0\n",
    "def signs(vec_a):\n",
    "    signs = np.zeros(len(vec_a))\n",
    "    for i in range(len(vec_a)):\n",
    "        signs[i] = sign(vec_a[i])\n",
    "    return signs\n",
    "        \n",
    "        \n",
    "def module(vec_a):\n",
    "    return (vec_a**2).sum()**(0.5)\n",
    "\n",
    "def angle(vec_a, vec_b):\n",
    "    return np.arccos((vec_a*vec_b).sum(axis = 1)/(module(vec_a) * module(vec_b)))\n",
    "def norm(vec_a):\n",
    "    norm = np.zeros_like(vec_a)\n",
    "    for i in range(len(vec_a)):\n",
    "        norm[i][0] = -vec_a[i][1]\n",
    "        norm[i][1] = vec_a[i][0]\n",
    "    return norm\n",
    "        \n",
    "def get_xz(joint):\n",
    "    a = env.link_state(joint, '').link_state.pose.position\n",
    "    return np.array([a.x, a.z])\n",
    "\n",
    "def get_xy(joint):\n",
    "    a = env.link_state(joint, '').link_state.pose.position\n",
    "    return np.array([a.x, a.y])"
   ]
  },
  {
   "cell_type": "code",
   "execution_count": 6,
   "metadata": {
    "collapsed": true
   },
   "outputs": [],
   "source": [
    "def state1(aim = env.aim):\n",
    "    aim1 = np.array([aim.x, aim.z])\n",
    "    aim1_gor = np.array([aim.x, aim.y])\n",
    "\n",
    "    #Joints pose vert\n",
    "    joint = np.zeros((6,2))\n",
    "    joint[0] = get_xz('biceps_link')\n",
    "    joint[1] = get_xz('forearm_link')\n",
    "    joint[2] = get_xz('wrist_1_link')\n",
    "    joint[3] = get_xz('gripper_1_link')\n",
    "    \n",
    "    #Joints pose gor\n",
    "    joint[4] = get_xy('gripper_1_link')\n",
    "    joint[5] = get_xy('biceps_link')\n",
    "    \n",
    "    #vectors\n",
    "    vec1 = np.zeros((3,2))\n",
    "    vec2 = np.zeros((3,2))\n",
    "    vec3 = np.zeros((1,2))\n",
    "    vec4 = np.zeros((1,2))\n",
    "    \n",
    "    vec3[0] = joint[4] - joint[5]\n",
    "    vec4[0] = aim1_gor - joint[5]\n",
    "    for i in range(3):\n",
    "        vec1[i] = joint[3] - joint[i]\n",
    "        vec2[i] = aim1 - joint[i]\n",
    "    \n",
    "    \n",
    "    state1 = signs(angle(norm(vec1), vec2) - np.full(3, radians(90)))\n",
    "    state2 = signs(angle(norm(vec3), vec4) - np.full(3, radians(90))) #вестор из 1, -1, 0\n",
    "    return (tuple(state1), tuple(state2))\n",
    "     "
   ]
  },
  {
   "cell_type": "code",
   "execution_count": 26,
   "metadata": {
    "collapsed": true
   },
   "outputs": [],
   "source": []
  },
  {
   "cell_type": "code",
   "execution_count": 27,
   "metadata": {},
   "outputs": [
    {
     "data": {
      "text/plain": [
       "([0.4016026162957722,\n",
       "  0.385432078132367,\n",
       "  -0.2367501358963695,\n",
       "  0.7011030906649705,\n",
       "  -0.000668670961865736],\n",
       " -4.0,\n",
       " False)"
      ]
     },
     "execution_count": 27,
     "metadata": {},
     "output_type": "execute_result"
    }
   ],
   "source": [
    "env.step([1, radians(0)])"
   ]
  },
  {
   "cell_type": "code",
   "execution_count": 7,
   "metadata": {
    "collapsed": true
   },
   "outputs": [],
   "source": [
    "def play_and_train(env,agent,t_max=10**3):\n",
    "\n",
    "    total_reward = 0.0\n",
    "    s = env.reset()\n",
    "    r = 0\n",
    "    #env.step((3, radians(0)))\n",
    "    for t in range(t_max):\n",
    "        state = state1()#state for agent, s for gazebo\n",
    "        action = agent.getAction(state)#<get agent to pick action given state s>\n",
    "        env.aim = env.box_state('little_box_0', 'link').pose.position\n",
    "        a = (action[0], action[1] + s[action[0]]) \n",
    "        next_s,r, done = env.step(a)\n",
    "        next_state = state1()\n",
    "        agent.update(state, action, next_state, r)#<train (update) agent for state s>\n",
    "        \n",
    "        s = next_s\n",
    "        total_reward +=r\n",
    "        if done:\n",
    "            agent.epsilon = agent.epsilon * 0.8\n",
    "            if agent.epsilon < 0.09:\n",
    "                env.gripper.publish(0.0)\n",
    "                rospy.sleep(2.0)\n",
    "                env.step([1, radians(0)])\n",
    "                rospy.sleep(2.0)\n",
    "                env.gripper.publish(2.0)\n",
    "                rospy.sleep(2.0)\n",
    "            print ('yyes')\n",
    "            break\n",
    "    return total_reward\n",
    "    \n",
    "        \n",
    "    "
   ]
  },
  {
   "cell_type": "markdown",
   "metadata": {},
   "source": [
    "aim = (0, 3)"
   ]
  },
  {
   "cell_type": "code",
   "execution_count": null,
   "metadata": {},
   "outputs": [
    {
     "name": "stdout",
     "output_type": "stream",
     "text": [
      "mean reward 84.0\n"
     ]
    },
    {
     "data": {
      "image/png": "[encoded data removed]",
      "text/plain": [
       "<matplotlib.figure.Figure at 0x7fc5453d0eb8>"
      ]
     },
     "metadata": {},
     "output_type": "display_data"
    },
    {
     "name": "stdout",
     "output_type": "stream",
     "text": [
      "yyes\n",
      "yyes\n",
      "yyes\n",
      "yyes\n",
      "yyes\n",
      "yyes\n",
      "yyes\n",
      "yyes\n",
      "yyes\n",
      "yyes\n",
      "yyes\n",
      "yyes\n"
     ]
    }
   ],
   "source": [
    "rewards = []\n",
    "for i in range(1000):\n",
    "    rewards.append(play_and_train(env,agent))    \n",
    "    if i % 100 == 0:\n",
    "        clear_output(True)\n",
    "        print (\"mean reward\",np.mean(rewards[-100:]))\n",
    "        plt.plot(rewards)\n",
    "        plt.show()\n",
    "        "
   ]
  },
  {
   "cell_type": "markdown",
   "metadata": {},
   "source": [
    "aim = (2, 1)"
   ]
  },
  {
   "cell_type": "code",
   "execution_count": 23,
   "metadata": {},
   "outputs": [
    {
     "data": {
      "text/plain": [
       "0.08589934592000005"
      ]
     },
     "execution_count": 23,
     "metadata": {},
     "output_type": "execute_result"
    }
   ],
   "source": [
    "agent.epsilon"
   ]
  },
  {
   "cell_type": "code",
   "execution_count": 26,
   "metadata": {},
   "outputs": [
    {
     "name": "stdout",
     "output_type": "stream",
     "text": [
      "mean reward -32.0\n"
     ]
    },
    {
     "data": {
      "image/png": "[encoded data removed]",
      "text/plain": [
       "<matplotlib.figure.Figure at 0x7fefd562c940>"
      ]
     },
     "metadata": {},
     "output_type": "display_data"
    }
   ],
   "source": [
    "rewards = []\n",
    "for i in range(1000):\n",
    "    rewards.append(play_and_train(env,agent))    \n",
    "    if i % 100 == 0:\n",
    "        clear_output(True)\n",
    "        print (\"mean reward\",np.mean(rewards[-100:]))\n",
    "        plt.plot(rewards)\n",
    "        plt.show()"
   ]
  },
  {
   "cell_type": "code",
   "execution_count": 27,
   "metadata": {},
   "outputs": [
    {
     "data": {
      "text/plain": [
       "1e-323"
      ]
     },
     "execution_count": 27,
     "metadata": {},
     "output_type": "execute_result"
    }
   ],
   "source": [
    "agent.epsilon"
   ]
  },
  {
   "cell_type": "code",
   "execution_count": 8,
   "metadata": {
    "collapsed": true
   },
   "outputs": [],
   "source": [
    "def play(env, agent, t_max=10**4):\n",
    "    total_reward = 0.0\n",
    "    s = env.reset()\n",
    "    r = 0\n",
    "    #env.step((3, radians(0)))\n",
    "    for t in range(t_max):\n",
    "        a = agent.getPolicy(tuple(s))#<get agent to pick action given state s>\n",
    "        \n",
    "        next_s,r, done = env.step(a)\n",
    "        print (r)\n",
    "        \n",
    "        #agent.update(tuple(s), a, tuple(next_s), r)#<train (update) agent for state s>\n",
    "        \n",
    "        s = next_s\n",
    "        total_reward +=r\n",
    "        if done:break\n",
    "    return total_reward"
   ]
  },
  {
   "cell_type": "code",
   "execution_count": null,
   "metadata": {
    "collapsed": true
   },
   "outputs": [],
   "source": []
  }
 ],
 "metadata": {
  "kernelspec": {
   "display_name": "Python 3",
   "language": "python",
   "name": "python3"
  },
  "language_info": {
   "codemirror_mode": {
    "name": "ipython",
    "version": 3
   },
   "file_extension": ".py",
   "mimetype": "text/x-python",
   "name": "python",
   "nbconvert_exporter": "python",
   "pygments_lexer": "ipython3",
   "version": "3.6.3"
  }
 },
 "nbformat": 4,
 "nbformat_minor": 1
}

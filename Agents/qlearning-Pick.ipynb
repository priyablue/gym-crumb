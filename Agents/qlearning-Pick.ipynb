{
 "cells": [
  {
   "cell_type": "code",
   "execution_count": 1,
   "metadata": {
    "collapsed": true
   },
   "outputs": [],
   "source": [
    "import numpy as np\n",
    "import gym\n",
    "import gym_crumb\n",
    "from math import radians\n"
   ]
  },
  {
   "cell_type": "code",
   "execution_count": 2,
   "metadata": {
    "collapsed": true
   },
   "outputs": [],
   "source": [
    "%load_ext autoreload\n",
    "%autoreload 2\n",
    "import matplotlib.pyplot as plt\n",
    "%matplotlib inline\n",
    "from IPython.display import clear_output"
   ]
  },
  {
   "cell_type": "code",
   "execution_count": 3,
   "metadata": {
    "collapsed": true
   },
   "outputs": [],
   "source": [
    "env = gym.make(\"crumb-pick-v0\")"
   ]
  },
  {
   "cell_type": "code",
   "execution_count": 12,
   "metadata": {},
   "outputs": [
    {
     "data": {
      "text/plain": [
       "[0.018103767308932817,\n",
       " 0.025692579878890065,\n",
       " -0.00698471269964962,\n",
       " 0.007794777254126473,\n",
       " -0.001010200466813771]"
      ]
     },
     "execution_count": 12,
     "metadata": {},
     "output_type": "execute_result"
    }
   ],
   "source": [
    "env.reset()"
   ]
  },
  {
   "cell_type": "code",
   "execution_count": 5,
   "metadata": {
    "collapsed": true
   },
   "outputs": [],
   "source": [
    "from qlearning_pick import QLearningAgent\n",
    "agent = QLearningAgent(alpha=0.25,epsilon=0.8,discount=0.99)"
   ]
  },
  {
   "cell_type": "code",
   "execution_count": 6,
   "metadata": {
    "collapsed": true
   },
   "outputs": [],
   "source": [
    "sign = lambda a: 1 if a>0 else -1 if (a<0) else 0\n",
    "def signs(vec_a):\n",
    "    signs = np.zeros(len(vec_a))\n",
    "    for i in range(len(vec_a)):\n",
    "        signs[i] = sign(vec_a[i])\n",
    "    return signs\n",
    "        \n",
    "        \n",
    "def module(vec_a):\n",
    "    return (vec_a**2).sum()**(0.5)\n",
    "\n",
    "def angle(vec_a, vec_b):\n",
    "    return np.arccos((vec_a*vec_b).sum(axis = 1)/(module(vec_a) * module(vec_b)))\n",
    "def norm(vec_a):\n",
    "    norm = np.zeros_like(vec_a)\n",
    "    for i in range(len(vec_a)):\n",
    "        norm[i][0] = -vec_a[i][1]\n",
    "        norm[i][1] = vec_a[i][0]\n",
    "    return norm\n",
    "        \n",
    "def get_xy(joint):\n",
    "    a = env.link_state(joint, '').link_state.pose.position\n",
    "    return np.array([a.x, a.z])"
   ]
  },
  {
   "cell_type": "code",
   "execution_count": 7,
   "metadata": {
    "collapsed": true
   },
   "outputs": [],
   "source": [
    "def state1(aim = env.aim):\n",
    "    aim1 = np.array([aim.x, aim.z])\n",
    "\n",
    "    #Joints pose\n",
    "    joint = np.zeros((4,2))\n",
    "    joint[0] = get_xy('biceps_link')\n",
    "    joint[1] = get_xy('forearm_link')\n",
    "    joint[2] = get_xy('wrist_1_link')\n",
    "    joint[3] = get_xy('gripper_1_link')\n",
    "\n",
    "    \n",
    "    #vectors\n",
    "    vec1 = np.zeros((3,2))\n",
    "    vec2 = np.zeros((3,2))\n",
    "    vec3 = np.zeros((3,2))\n",
    "    \n",
    "    for i in range(3):\n",
    "        vec1[i] = joint[3] - joint[i]\n",
    "        vec2[i] = aim1 - joint[i]\n",
    "    \n",
    "    state1 = signs(angle(norm(vec1), vec2) - np.full(3, radians(90))) #вестор из 1, -1, 0\n",
    "    return tuple(state1)\n",
    "     "
   ]
  },
  {
   "cell_type": "code",
   "execution_count": 8,
   "metadata": {},
   "outputs": [
    {
     "data": {
      "text/plain": [
       "x: 0.31204\n",
       "y: 0.000138\n",
       "z: 0.403016"
      ]
     },
     "execution_count": 8,
     "metadata": {},
     "output_type": "execute_result"
    }
   ],
   "source": [
    "env.aim"
   ]
  },
  {
   "cell_type": "code",
   "execution_count": 9,
   "metadata": {
    "collapsed": true
   },
   "outputs": [],
   "source": [
    "def play_and_train(env,agent,t_max=10**3):\n",
    "\n",
    "    total_reward = 0.0\n",
    "    s = env.reset()\n",
    "    r = 0\n",
    "    #env.step((3, radians(0)))\n",
    "    for t in range(t_max):\n",
    "        state = state1()#state for agent, s for gazebo\n",
    "        action = agent.getAction(state)#<get agent to pick action given state s>\n",
    "        a = (action[0], action[1] + s[action[0]]) \n",
    "        next_s,r, done = env.step(a)\n",
    "        next_state = state1()\n",
    "        agent.update(state, action, next_state, r)#<train (update) agent for state s>\n",
    "        \n",
    "        s = next_s\n",
    "        total_reward +=r\n",
    "        if done:\n",
    "            agent.epsilon = agent.epsilon * 0.8\n",
    "            print ('yyes')\n",
    "            break\n",
    "    return total_reward\n",
    "    \n",
    "        \n",
    "    "
   ]
  },
  {
   "cell_type": "markdown",
   "metadata": {},
   "source": [
    "aim = (0, 3)"
   ]
  },
  {
   "cell_type": "code",
   "execution_count": 11,
   "metadata": {},
   "outputs": [
    {
     "name": "stdout",
     "output_type": "stream",
     "text": [
      "mean reward 103.0\n"
     ]
    },
    {
     "data": {
      "image/png": "[encoded data removed]",
      "text/plain": [
       "<matplotlib.figure.Figure at 0x7f91ff3f4e48>"
      ]
     },
     "metadata": {},
     "output_type": "display_data"
    },
    {
     "name": "stdout",
     "output_type": "stream",
     "text": [
      "yyes\n",
      "yyes\n",
      "yyes\n",
      "yyes\n"
     ]
    },
    {
     "ename": "KeyboardInterrupt",
     "evalue": "",
     "output_type": "error",
     "traceback": [
      "\u001b[0;31m---------------------------------------------------------------------------\u001b[0m",
      "\u001b[0;31mKeyboardInterrupt\u001b[0m                         Traceback (most recent call last)",
      "\u001b[0;32m<ipython-input-11-08449f3dd56d>\u001b[0m in \u001b[0;36m<module>\u001b[0;34m()\u001b[0m\n\u001b[1;32m      1\u001b[0m \u001b[0mrewards\u001b[0m \u001b[0;34m=\u001b[0m \u001b[0;34m[\u001b[0m\u001b[0;34m]\u001b[0m\u001b[0;34m\u001b[0m\u001b[0m\n\u001b[1;32m      2\u001b[0m \u001b[0;32mfor\u001b[0m \u001b[0mi\u001b[0m \u001b[0;32min\u001b[0m \u001b[0mrange\u001b[0m\u001b[0;34m(\u001b[0m\u001b[0;36m1000\u001b[0m\u001b[0;34m)\u001b[0m\u001b[0;34m:\u001b[0m\u001b[0;34m\u001b[0m\u001b[0m\n\u001b[0;32m----> 3\u001b[0;31m     \u001b[0mrewards\u001b[0m\u001b[0;34m.\u001b[0m\u001b[0mappend\u001b[0m\u001b[0;34m(\u001b[0m\u001b[0mplay_and_train\u001b[0m\u001b[0;34m(\u001b[0m\u001b[0menv\u001b[0m\u001b[0;34m,\u001b[0m\u001b[0magent\u001b[0m\u001b[0;34m)\u001b[0m\u001b[0;34m)\u001b[0m\u001b[0;34m\u001b[0m\u001b[0m\n\u001b[0m\u001b[1;32m      4\u001b[0m     \u001b[0;32mif\u001b[0m \u001b[0mi\u001b[0m \u001b[0;34m%\u001b[0m \u001b[0;36m100\u001b[0m \u001b[0;34m==\u001b[0m \u001b[0;36m0\u001b[0m\u001b[0;34m:\u001b[0m\u001b[0;34m\u001b[0m\u001b[0m\n\u001b[1;32m      5\u001b[0m         \u001b[0mclear_output\u001b[0m\u001b[0;34m(\u001b[0m\u001b[0;32mTrue\u001b[0m\u001b[0;34m)\u001b[0m\u001b[0;34m\u001b[0m\u001b[0m\n",
      "\u001b[0;32m<ipython-input-9-1b8784b9bfaf>\u001b[0m in \u001b[0;36mplay_and_train\u001b[0;34m(env, agent, t_max)\u001b[0m\n\u001b[1;32m      2\u001b[0m \u001b[0;34m\u001b[0m\u001b[0m\n\u001b[1;32m      3\u001b[0m     \u001b[0mtotal_reward\u001b[0m \u001b[0;34m=\u001b[0m \u001b[0;36m0.0\u001b[0m\u001b[0;34m\u001b[0m\u001b[0m\n\u001b[0;32m----> 4\u001b[0;31m     \u001b[0ms\u001b[0m \u001b[0;34m=\u001b[0m \u001b[0menv\u001b[0m\u001b[0;34m.\u001b[0m\u001b[0mreset\u001b[0m\u001b[0;34m(\u001b[0m\u001b[0;34m)\u001b[0m\u001b[0;34m\u001b[0m\u001b[0m\n\u001b[0m\u001b[1;32m      5\u001b[0m     \u001b[0mr\u001b[0m \u001b[0;34m=\u001b[0m \u001b[0;36m0\u001b[0m\u001b[0;34m\u001b[0m\u001b[0m\n\u001b[1;32m      6\u001b[0m     \u001b[0;31m#env.step((3, radians(0)))\u001b[0m\u001b[0;34m\u001b[0m\u001b[0;34m\u001b[0m\u001b[0m\n",
      "\u001b[0;32m~/anaconda3/lib/python3.6/site-packages/gym/core.py\u001b[0m in \u001b[0;36mreset\u001b[0;34m(self)\u001b[0m\n\u001b[1;32m    102\u001b[0m             \u001b[0mspace\u001b[0m\u001b[0;34m.\u001b[0m\u001b[0;34m\u001b[0m\u001b[0m\n\u001b[1;32m    103\u001b[0m         \"\"\"\n\u001b[0;32m--> 104\u001b[0;31m         \u001b[0;32mreturn\u001b[0m \u001b[0mself\u001b[0m\u001b[0;34m.\u001b[0m\u001b[0m_reset\u001b[0m\u001b[0;34m(\u001b[0m\u001b[0;34m)\u001b[0m\u001b[0;34m\u001b[0m\u001b[0m\n\u001b[0m\u001b[1;32m    105\u001b[0m \u001b[0;34m\u001b[0m\u001b[0m\n\u001b[1;32m    106\u001b[0m     \u001b[0;32mdef\u001b[0m \u001b[0mrender\u001b[0m\u001b[0;34m(\u001b[0m\u001b[0mself\u001b[0m\u001b[0;34m,\u001b[0m \u001b[0mmode\u001b[0m\u001b[0;34m=\u001b[0m\u001b[0;34m'human'\u001b[0m\u001b[0;34m,\u001b[0m \u001b[0mclose\u001b[0m\u001b[0;34m=\u001b[0m\u001b[0;32mFalse\u001b[0m\u001b[0;34m)\u001b[0m\u001b[0;34m:\u001b[0m\u001b[0;34m\u001b[0m\u001b[0m\n",
      "\u001b[0;32m~/gym-crumb/gym-crumb/gym_crumb/envs/crumb_pick_env.py\u001b[0m in \u001b[0;36m_reset\u001b[0;34m(self)\u001b[0m\n\u001b[1;32m     35\u001b[0m                 \u001b[0;32mfor\u001b[0m \u001b[0mi\u001b[0m \u001b[0;32min\u001b[0m \u001b[0mrange\u001b[0m\u001b[0;34m(\u001b[0m\u001b[0;36m5\u001b[0m\u001b[0;34m)\u001b[0m\u001b[0;34m:\u001b[0m\u001b[0;34m\u001b[0m\u001b[0m\n\u001b[1;32m     36\u001b[0m                         \u001b[0mself\u001b[0m\u001b[0;34m.\u001b[0m\u001b[0marm\u001b[0m\u001b[0;34m[\u001b[0m\u001b[0mi\u001b[0m\u001b[0;34m]\u001b[0m\u001b[0;34m.\u001b[0m\u001b[0mpublish\u001b[0m\u001b[0;34m(\u001b[0m\u001b[0;36m0.0\u001b[0m\u001b[0;34m)\u001b[0m\u001b[0;34m\u001b[0m\u001b[0m\n\u001b[0;32m---> 37\u001b[0;31m                         \u001b[0mrospy\u001b[0m\u001b[0;34m.\u001b[0m\u001b[0msleep\u001b[0m\u001b[0;34m(\u001b[0m\u001b[0;36m0.5\u001b[0m\u001b[0;34m)\u001b[0m\u001b[0;34m\u001b[0m\u001b[0m\n\u001b[0m\u001b[1;32m     38\u001b[0m                 \u001b[0mself\u001b[0m\u001b[0;34m.\u001b[0m\u001b[0mgripper\u001b[0m\u001b[0;34m.\u001b[0m\u001b[0mpublish\u001b[0m\u001b[0;34m(\u001b[0m\u001b[0;36m2.0\u001b[0m\u001b[0;34m)\u001b[0m\u001b[0;34m\u001b[0m\u001b[0m\n\u001b[1;32m     39\u001b[0m                 \u001b[0mself\u001b[0m\u001b[0;34m.\u001b[0m\u001b[0mresetworld\u001b[0m\u001b[0;34m(\u001b[0m\u001b[0;34m)\u001b[0m\u001b[0;34m\u001b[0m\u001b[0m\n",
      "\u001b[0;32m/opt/ros/kinetic/lib/python2.7/dist-packages/rospy/timer.py\u001b[0m in \u001b[0;36msleep\u001b[0;34m(duration)\u001b[0m\n\u001b[1;32m    157\u001b[0m                   \u001b[0;32mnot\u001b[0m \u001b[0mrospy\u001b[0m\u001b[0;34m.\u001b[0m\u001b[0mcore\u001b[0m\u001b[0;34m.\u001b[0m\u001b[0mis_shutdown\u001b[0m\u001b[0;34m(\u001b[0m\u001b[0;34m)\u001b[0m\u001b[0;34m:\u001b[0m\u001b[0;34m\u001b[0m\u001b[0m\n\u001b[1;32m    158\u001b[0m             \u001b[0;32mwith\u001b[0m \u001b[0mrostime_cond\u001b[0m\u001b[0;34m:\u001b[0m\u001b[0;34m\u001b[0m\u001b[0m\n\u001b[0;32m--> 159\u001b[0;31m                 \u001b[0mrostime_cond\u001b[0m\u001b[0;34m.\u001b[0m\u001b[0mwait\u001b[0m\u001b[0;34m(\u001b[0m\u001b[0;36m0.5\u001b[0m\u001b[0;34m)\u001b[0m\u001b[0;34m\u001b[0m\u001b[0m\n\u001b[0m\u001b[1;32m    160\u001b[0m \u001b[0;34m\u001b[0m\u001b[0m\n\u001b[1;32m    161\u001b[0m         \u001b[0;32mif\u001b[0m \u001b[0mrospy\u001b[0m\u001b[0;34m.\u001b[0m\u001b[0mrostime\u001b[0m\u001b[0;34m.\u001b[0m\u001b[0mget_rostime\u001b[0m\u001b[0;34m(\u001b[0m\u001b[0;34m)\u001b[0m \u001b[0;34m<\u001b[0m \u001b[0minitial_rostime\u001b[0m\u001b[0;34m:\u001b[0m\u001b[0;34m\u001b[0m\u001b[0m\n",
      "\u001b[0;32m~/anaconda3/lib/python3.6/threading.py\u001b[0m in \u001b[0;36mwait\u001b[0;34m(self, timeout)\u001b[0m\n\u001b[1;32m    297\u001b[0m             \u001b[0;32melse\u001b[0m\u001b[0;34m:\u001b[0m\u001b[0;34m\u001b[0m\u001b[0m\n\u001b[1;32m    298\u001b[0m                 \u001b[0;32mif\u001b[0m \u001b[0mtimeout\u001b[0m \u001b[0;34m>\u001b[0m \u001b[0;36m0\u001b[0m\u001b[0;34m:\u001b[0m\u001b[0;34m\u001b[0m\u001b[0m\n\u001b[0;32m--> 299\u001b[0;31m                     \u001b[0mgotit\u001b[0m \u001b[0;34m=\u001b[0m \u001b[0mwaiter\u001b[0m\u001b[0;34m.\u001b[0m\u001b[0macquire\u001b[0m\u001b[0;34m(\u001b[0m\u001b[0;32mTrue\u001b[0m\u001b[0;34m,\u001b[0m \u001b[0mtimeout\u001b[0m\u001b[0;34m)\u001b[0m\u001b[0;34m\u001b[0m\u001b[0m\n\u001b[0m\u001b[1;32m    300\u001b[0m                 \u001b[0;32melse\u001b[0m\u001b[0;34m:\u001b[0m\u001b[0;34m\u001b[0m\u001b[0m\n\u001b[1;32m    301\u001b[0m                     \u001b[0mgotit\u001b[0m \u001b[0;34m=\u001b[0m \u001b[0mwaiter\u001b[0m\u001b[0;34m.\u001b[0m\u001b[0macquire\u001b[0m\u001b[0;34m(\u001b[0m\u001b[0;32mFalse\u001b[0m\u001b[0;34m)\u001b[0m\u001b[0;34m\u001b[0m\u001b[0m\n",
      "\u001b[0;31mKeyboardInterrupt\u001b[0m: "
     ]
    }
   ],
   "source": [
    "rewards = []\n",
    "for i in range(1000):\n",
    "    rewards.append(play_and_train(env,agent))    \n",
    "    if i % 100 == 0:\n",
    "        clear_output(True)\n",
    "        print (\"mean reward\",np.mean(rewards[-100:]))\n",
    "        plt.plot(rewards)\n",
    "        plt.show()\n",
    "        "
   ]
  },
  {
   "cell_type": "markdown",
   "metadata": {},
   "source": [
    "aim = (2, 1)"
   ]
  },
  {
   "cell_type": "code",
   "execution_count": 25,
   "metadata": {
    "collapsed": true
   },
   "outputs": [],
   "source": [
    "env.aim = np.array((0, 3))"
   ]
  },
  {
   "cell_type": "code",
   "execution_count": 26,
   "metadata": {},
   "outputs": [
    {
     "name": "stdout",
     "output_type": "stream",
     "text": [
      "mean reward -32.0\n"
     ]
    },
    {
     "data": {
      "image/png": "[encoded data removed]",
      "text/plain": [
       "<matplotlib.figure.Figure at 0x7fefd562c940>"
      ]
     },
     "metadata": {},
     "output_type": "display_data"
    }
   ],
   "source": [
    "rewards = []\n",
    "for i in range(1000):\n",
    "    rewards.append(play_and_train(env,agent))    \n",
    "    if i % 100 == 0:\n",
    "        clear_output(True)\n",
    "        print (\"mean reward\",np.mean(rewards[-100:]))\n",
    "        plt.plot(rewards)\n",
    "        plt.show()"
   ]
  },
  {
   "cell_type": "code",
   "execution_count": 27,
   "metadata": {},
   "outputs": [
    {
     "data": {
      "text/plain": [
       "1e-323"
      ]
     },
     "execution_count": 27,
     "metadata": {},
     "output_type": "execute_result"
    }
   ],
   "source": [
    "agent.epsilon"
   ]
  },
  {
   "cell_type": "code",
   "execution_count": 8,
   "metadata": {
    "collapsed": true
   },
   "outputs": [],
   "source": [
    "def play(env, agent, t_max=10**4):\n",
    "    total_reward = 0.0\n",
    "    s = env.reset()\n",
    "    r = 0\n",
    "    #env.step((3, radians(0)))\n",
    "    for t in range(t_max):\n",
    "        a = agent.getPolicy(tuple(s))#<get agent to pick action given state s>\n",
    "        \n",
    "        next_s,r, done = env.step(a)\n",
    "        print (r)\n",
    "        \n",
    "        #agent.update(tuple(s), a, tuple(next_s), r)#<train (update) agent for state s>\n",
    "        \n",
    "        s = next_s\n",
    "        total_reward +=r\n",
    "        if done:break\n",
    "    return total_reward"
   ]
  },
  {
   "cell_type": "code",
   "execution_count": 11,
   "metadata": {},
   "outputs": [
    {
     "data": {
      "text/plain": [
       "((0, 0),\n",
       " (0, 0.07853981633974483),\n",
       " (0, -0.07853981633974483),\n",
       " (0, 0.15707963267948966),\n",
       " (0, -0.15707963267948966),\n",
       " (0, 0.23561944901923448),\n",
       " (0, -0.23561944901923448),\n",
       " (0, 0.3141592653589793),\n",
       " (0, -0.3141592653589793),\n",
       " (0, 0.39269908169872414),\n",
       " (0, -0.39269908169872414),\n",
       " (0, 0.47123889803846897),\n",
       " (0, -0.47123889803846897),\n",
       " (0, 0.5497787143782138),\n",
       " (0, -0.5497787143782138),\n",
       " (0, 0.6283185307179586),\n",
       " (0, -0.6283185307179586),\n",
       " (0, 0.7068583470577035),\n",
       " (0, -0.7068583470577035),\n",
       " (0, 0.7853981633974483),\n",
       " (0, -0.7853981633974483),\n",
       " (0, 0.8639379797371931),\n",
       " (0, -0.8639379797371931),\n",
       " (0, 0.9424777960769379),\n",
       " (0, -0.9424777960769379),\n",
       " (0, 1.0210176124166828),\n",
       " (0, -1.0210176124166828),\n",
       " (0, 1.0995574287564276),\n",
       " (0, -1.0995574287564276),\n",
       " (0, 1.1780972450961724),\n",
       " (0, -1.1780972450961724),\n",
       " (0, 1.2566370614359172),\n",
       " (0, -1.2566370614359172),\n",
       " (0, 1.335176877775662),\n",
       " (0, -1.335176877775662),\n",
       " (0, 1.413716694115407),\n",
       " (0, -1.413716694115407),\n",
       " (0, 1.4922565104551517),\n",
       " (0, -1.4922565104551517),\n",
       " (0, 1.5707963267948966),\n",
       " (0, -1.5707963267948966),\n",
       " (1, 0),\n",
       " (1, 0.07853981633974483),\n",
       " (1, -0.07853981633974483),\n",
       " (1, 0.15707963267948966),\n",
       " (1, -0.15707963267948966),\n",
       " (1, 0.23561944901923448),\n",
       " (1, -0.23561944901923448),\n",
       " (1, 0.3141592653589793),\n",
       " (1, -0.3141592653589793),\n",
       " (1, 0.39269908169872414),\n",
       " (1, -0.39269908169872414),\n",
       " (1, 0.47123889803846897),\n",
       " (1, -0.47123889803846897),\n",
       " (1, 0.5497787143782138),\n",
       " (1, -0.5497787143782138),\n",
       " (1, 0.6283185307179586),\n",
       " (1, -0.6283185307179586),\n",
       " (1, 0.7068583470577035),\n",
       " (1, -0.7068583470577035),\n",
       " (1, 0.7853981633974483),\n",
       " (1, -0.7853981633974483),\n",
       " (1, 0.8639379797371931),\n",
       " (1, -0.8639379797371931),\n",
       " (1, 0.9424777960769379),\n",
       " (1, -0.9424777960769379),\n",
       " (1, 1.0210176124166828),\n",
       " (1, -1.0210176124166828),\n",
       " (1, 1.0995574287564276),\n",
       " (1, -1.0995574287564276),\n",
       " (1, 1.1780972450961724),\n",
       " (1, -1.1780972450961724),\n",
       " (1, 1.2566370614359172),\n",
       " (1, -1.2566370614359172),\n",
       " (1, 1.335176877775662),\n",
       " (1, -1.335176877775662),\n",
       " (1, 1.413716694115407),\n",
       " (1, -1.413716694115407),\n",
       " (1, 1.4922565104551517),\n",
       " (1, -1.4922565104551517),\n",
       " (1, 1.5707963267948966),\n",
       " (1, -1.5707963267948966),\n",
       " (2, 0),\n",
       " (2, 0.07853981633974483),\n",
       " (2, -0.07853981633974483),\n",
       " (2, 0.15707963267948966),\n",
       " (2, -0.15707963267948966),\n",
       " (2, 0.23561944901923448),\n",
       " (2, -0.23561944901923448),\n",
       " (2, 0.3141592653589793),\n",
       " (2, -0.3141592653589793),\n",
       " (2, 0.39269908169872414),\n",
       " (2, -0.39269908169872414),\n",
       " (2, 0.47123889803846897),\n",
       " (2, -0.47123889803846897),\n",
       " (2, 0.5497787143782138),\n",
       " (2, -0.5497787143782138),\n",
       " (2, 0.6283185307179586),\n",
       " (2, -0.6283185307179586),\n",
       " (2, 0.7068583470577035),\n",
       " (2, -0.7068583470577035),\n",
       " (2, 0.7853981633974483),\n",
       " (2, -0.7853981633974483),\n",
       " (2, 0.8639379797371931),\n",
       " (2, -0.8639379797371931),\n",
       " (2, 0.9424777960769379),\n",
       " (2, -0.9424777960769379),\n",
       " (2, 1.0210176124166828),\n",
       " (2, -1.0210176124166828),\n",
       " (2, 1.0995574287564276),\n",
       " (2, -1.0995574287564276),\n",
       " (2, 1.1780972450961724),\n",
       " (2, -1.1780972450961724),\n",
       " (2, 1.2566370614359172),\n",
       " (2, -1.2566370614359172),\n",
       " (2, 1.335176877775662),\n",
       " (2, -1.335176877775662),\n",
       " (2, 1.413716694115407),\n",
       " (2, -1.413716694115407),\n",
       " (2, 1.4922565104551517),\n",
       " (2, -1.4922565104551517),\n",
       " (2, 1.5707963267948966),\n",
       " (2, -1.5707963267948966))"
      ]
     },
     "execution_count": 11,
     "metadata": {},
     "output_type": "execute_result"
    }
   ],
   "source": [
    "agent.Actions"
   ]
  },
  {
   "cell_type": "code",
   "execution_count": null,
   "metadata": {
    "collapsed": true
   },
   "outputs": [],
   "source": []
  }
 ],
 "metadata": {
  "kernelspec": {
   "display_name": "Python 3",
   "language": "python",
   "name": "python3"
  },
  "language_info": {
   "codemirror_mode": {
    "name": "ipython",
    "version": 3
   },
   "file_extension": ".py",
   "mimetype": "text/x-python",
   "name": "python",
   "nbconvert_exporter": "python",
   "pygments_lexer": "ipython3",
   "version": "3.6.3"
  }
 },
 "nbformat": 4,
 "nbformat_minor": 1
}
